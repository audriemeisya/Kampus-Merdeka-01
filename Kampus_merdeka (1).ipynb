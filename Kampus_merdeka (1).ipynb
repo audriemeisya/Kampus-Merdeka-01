{
  "nbformat": 4,
  "nbformat_minor": 0,
  "metadata": {
    "colab": {
      "provenance": [],
      "toc_visible": true
    },
    "kernelspec": {
      "name": "python3",
      "display_name": "Python 3"
    },
    "language_info": {
      "name": "python"
    }
  },
  "cells": [
    {
      "cell_type": "code",
      "source": [
        "odd=[x for x in range(1,100+1) if x %2!=0]\n",
        "squares=[x**2 for x in odd]\n",
        "total=sum(squares)\n",
        "ratarata=total/len(squares)\n",
        "print(total)\n",
        "print(ratarata)"
      ],
      "metadata": {
        "id": "Q4MNFOHXqdJJ",
        "colab": {
          "base_uri": "https://localhost:8080/"
        },
        "outputId": "4197ac50-36cb-4636-ac55-ae9cf6e75add"
      },
      "execution_count": null,
      "outputs": [
        {
          "output_type": "stream",
          "name": "stdout",
          "text": [
            "166650\n",
            "3333.0\n"
          ]
        }
      ]
    },
    {
      "cell_type": "code",
      "source": [
        "a = int(input(\"masukan a= \"))\n",
        "if a<100: #conditional form\n",
        "    print('small value')\n",
        "else:\n",
        "    print('big value')"
      ],
      "metadata": {
        "colab": {
          "base_uri": "https://localhost:8080/"
        },
        "id": "oMiZmOEoncOi",
        "outputId": "2c697985-e056-40f2-8e87-38b2db2659f0"
      },
      "execution_count": null,
      "outputs": [
        {
          "output_type": "stream",
          "name": "stdout",
          "text": [
            "masukan a= 200\n",
            "big value\n"
          ]
        }
      ]
    },
    {
      "cell_type": "code",
      "source": [
        "while True:\n",
        "  a = int(input(\"masukan a= \"))\n",
        "  if a<100:\n",
        "    print('small value')\n",
        "  else:\n",
        "    print('big value')\n",
        "    break"
      ],
      "metadata": {
        "id": "fLY43qi9ofrJ",
        "colab": {
          "base_uri": "https://localhost:8080/"
        },
        "outputId": "95742ad6-e136-46a2-ee3c-a9dc38b0d0db"
      },
      "execution_count": null,
      "outputs": [
        {
          "output_type": "stream",
          "name": "stdout",
          "text": [
            "masukan a= 200\n",
            "big value\n"
          ]
        }
      ]
    },
    {
      "cell_type": "code",
      "source": [
        "pas= input(\"password= \")\n",
        "panjang=len(pas)>=5\n",
        "c8=\"8\" in pas\n",
        "cx= \"X\" in pas\n",
        "char=\"@\" in pas\n",
        "if panjang!=True:\n",
        "    print(\"terlalu pendek\")\n",
        "elif c8!=True:\n",
        "    print(\"harus mengandung 8\")\n",
        "elif cx!=True:\n",
        "    print(\"harus mengandng X\")\n",
        "elif char!=True:\n",
        "    print(\"harus mengandng @\")\n",
        "else:\n",
        "    print(\"password valid\")"
      ],
      "metadata": {
        "colab": {
          "base_uri": "https://localhost:8080/"
        },
        "id": "cj24khymFFdK",
        "outputId": "6fc41338-3ebb-45e5-f6e3-845e98667210"
      },
      "execution_count": null,
      "outputs": [
        {
          "output_type": "stream",
          "name": "stdout",
          "text": [
            "password= kampus merdeka x\n",
            "harus mengandung 8\n"
          ]
        }
      ]
    },
    {
      "cell_type": "code",
      "source": [
        "while True:\n",
        "    pas= input(\"password= \")\n",
        "    panjang=len(pas)>=5\n",
        "    c8=\"8\" in pas\n",
        "    cx= \"X\" in pas\n",
        "    char=\"@\" in pas\n",
        "    if panjang!=True:\n",
        "        print(\"terlalu pendek\")\n",
        "    elif c8!=True:\n",
        "        print(\"harus mengandung 8\")\n",
        "    elif cx!=True:\n",
        "        print(\"harus mengandng X\")\n",
        "    elif char!=True:\n",
        "        print(\"harus mengandng @\")\n",
        "    else:\n",
        "        print(\"password valid\")\n",
        "        break"
      ],
      "metadata": {
        "colab": {
          "base_uri": "https://localhost:8080/"
        },
        "id": "JQmpJWY8F6gU",
        "outputId": "f4a62290-19f8-426d-e7c5-d010d27355fd"
      },
      "execution_count": null,
      "outputs": [
        {
          "output_type": "stream",
          "name": "stdout",
          "text": [
            "password= kampusX@8\n",
            "password valid\n"
          ]
        }
      ]
    },
    {
      "cell_type": "code",
      "source": [
        "count=0\n",
        "contoh_list=['acc', 'xyz', 'aba', '1221']\n",
        "for i in range(len(contoh_list)):\n",
        "    if(contoh_list[i][0] == contoh_list[i][-1]):\n",
        "        count += 1\n",
        "print('jumlah string yg sama=',count)"
      ],
      "metadata": {
        "colab": {
          "base_uri": "https://localhost:8080/"
        },
        "id": "LOs66iMXqnR0",
        "outputId": "238dcd8a-66a4-4017-d87f-ddf568b93fda"
      },
      "execution_count": null,
      "outputs": [
        {
          "output_type": "stream",
          "name": "stdout",
          "text": [
            "jumlah string yg sama= 2\n"
          ]
        }
      ]
    },
    {
      "cell_type": "code",
      "source": [
        "while True:\n",
        "    kata=input(\"masukan kata= \")\n",
        "    if kata == kata[::-1]:\n",
        "        print(\"string merupakan palidrom\")\n",
        "        break\n",
        "    else:\n",
        "        print(\"string bukan palidrom\")"
      ],
      "metadata": {
        "colab": {
          "base_uri": "https://localhost:8080/"
        },
        "id": "KIAz0YraGEJe",
        "outputId": "c93a5450-e396-45d9-9c9f-e7a01a5fe3a5"
      },
      "execution_count": null,
      "outputs": [
        {
          "output_type": "stream",
          "name": "stdout",
          "text": [
            "masukan kata= sayur\n",
            "string bukan palidrom\n",
            "masukan kata= ini\n",
            "string merupakan palidrom\n"
          ]
        }
      ]
    },
    {
      "cell_type": "code",
      "source": [
        "def hitung(s):\n",
        "    d={'upper':0,'lower':0}\n",
        "    for x in s:\n",
        "        if x.isupper():\n",
        "            d['upper']+=1\n",
        "        elif x.islower():\n",
        "            d['lower']+=1\n",
        "    print('string kalimat:', s)\n",
        "    print('jumlah huruf kapital:',d['upper'])\n",
        "    print('jumlah huruf kecil',d['lower'])\n",
        "hitung('aAsssSWWWJHSJ')"
      ],
      "metadata": {
        "id": "79-V6Hg-GzsE",
        "outputId": "21ba061d-07af-41ab-f5f8-775c569080a1",
        "colab": {
          "base_uri": "https://localhost:8080/"
        }
      },
      "execution_count": null,
      "outputs": [
        {
          "output_type": "stream",
          "name": "stdout",
          "text": [
            "string kalimat: aAsssSWWWJHSJ\n",
            "jumlah huruf kapital: 9\n",
            "jumlah huruf kecil 4\n"
          ]
        }
      ]
    },
    {
      "cell_type": "code",
      "source": [
        "#Kata ganjil\n",
        "list1=[\"ada\",\"sapa\",\"warga\",\"kanopi\",\"layang\",\"tamu\",\"kampus\"]\n",
        "for i in list1:\n",
        "    if len(i)%2==1:\n",
        "        print(i,end=\" \")"
      ],
      "metadata": {
        "colab": {
          "base_uri": "https://localhost:8080/"
        },
        "id": "CrkyyQgmGFJR",
        "outputId": "884101bf-8e4b-4fff-8800-e31ffeb0fa31"
      },
      "execution_count": null,
      "outputs": [
        {
          "output_type": "stream",
          "name": "stdout",
          "text": [
            "ada warga "
          ]
        }
      ]
    },
    {
      "cell_type": "code",
      "source": [
        "#kata genap\n",
        "list1=[\"ada\",\"sapa\",\"warga\",\"kanopi\",\"layang\",\"tamu\"]\n",
        "for i in list1:\n",
        "    if len(i)%2==0:\n",
        "        print(i,end=\" \")"
      ],
      "metadata": {
        "colab": {
          "base_uri": "https://localhost:8080/"
        },
        "id": "EolCEUTjsQSH",
        "outputId": "946212b3-dbee-4860-fca6-ab01d817c8bb"
      },
      "execution_count": null,
      "outputs": [
        {
          "output_type": "stream",
          "name": "stdout",
          "text": [
            "sapa kanopi layang tamu "
          ]
        }
      ]
    }
  ]
}